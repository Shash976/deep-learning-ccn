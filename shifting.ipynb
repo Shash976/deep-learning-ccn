{
 "cells": [
  {
   "cell_type": "code",
   "execution_count": 1,
   "metadata": {},
   "outputs": [],
   "source": [
    "import shutil\n",
    "import os\n",
    "import random"
   ]
  },
  {
   "cell_type": "code",
   "execution_count": 2,
   "metadata": {},
   "outputs": [],
   "source": [
    "copy_from = r\"C:\\Users\\shash\\Downloads\\PetImages\"\n",
    "copy_to = r\"C:\\Users\\shash\\Downloads\\pets\""
   ]
  },
  {
   "cell_type": "code",
   "execution_count": 3,
   "metadata": {},
   "outputs": [],
   "source": [
    "indexes = random.sample(range(1,12500), 1500)"
   ]
  },
  {
   "cell_type": "code",
   "execution_count": 5,
   "metadata": {},
   "outputs": [],
   "source": [
    "folders = {}\n",
    "for directory in os.listdir(copy_from):\n",
    "    images = []\n",
    "    dir = os.path.join(copy_from, directory)\n",
    "    for image in os.listdir(dir):\n",
    "        i_path = os.path.join(dir, image)\n",
    "        images.append(i_path)\n",
    "    folders[directory] = images"
   ]
  },
  {
   "cell_type": "code",
   "execution_count": 30,
   "metadata": {},
   "outputs": [],
   "source": [
    "for index, num in enumerate(indexes):\n",
    "    for dir, images in folders.items():\n",
    "        img = images[num]\n",
    "        x = r'\\\\'\n",
    "        iname = os.path.split(img)[1]\n",
    "        if not os.path.exists(os.path.join(copy_to, dir)):\n",
    "            os.mkdir(os.path.join(copy_to, dir))\n",
    "        shutil.copy(img, os.path.join(copy_to, dir, iname))"
   ]
  }
 ],
 "metadata": {
  "kernelspec": {
   "display_name": "Python 3",
   "language": "python",
   "name": "python3"
  },
  "language_info": {
   "codemirror_mode": {
    "name": "ipython",
    "version": 3
   },
   "file_extension": ".py",
   "mimetype": "text/x-python",
   "name": "python",
   "nbconvert_exporter": "python",
   "pygments_lexer": "ipython3",
   "version": "3.10.11"
  },
  "orig_nbformat": 4
 },
 "nbformat": 4,
 "nbformat_minor": 2
}
